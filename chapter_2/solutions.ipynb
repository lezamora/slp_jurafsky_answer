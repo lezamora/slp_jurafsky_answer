{
 "cells": [
  {
   "cell_type": "markdown",
   "metadata": {
    "heading_collapsed": true
   },
   "source": [
    "## Exercises Chapter 2"
   ]
  },
  {
   "cell_type": "code",
   "execution_count": 1,
   "metadata": {
    "hidden": true
   },
   "outputs": [],
   "source": [
    "import re"
   ]
  },
  {
   "cell_type": "markdown",
   "metadata": {
    "heading_collapsed": true,
    "hidden": true
   },
   "source": [
    "#### 2.1 - Write regular expressions for the following languages.\n",
    "1. the set of all alphabetic strings;\n",
    "2. the set of all lower case alphabetic strings ending in a b;\n",
    "3. the set of all strings from the alphabet a, b such that each a is immediately preceded by and immediately followed by a b;"
   ]
  },
  {
   "cell_type": "code",
   "execution_count": 2,
   "metadata": {
    "hidden": true
   },
   "outputs": [],
   "source": [
    "### Testing test\n",
    "text = \"\"\"\n",
    "    ...The 1950s were not good years for mathematical research. [the]\n",
    "    Secretary of Defense ...had a pathological fear and hatred of the word,\n",
    "    research... I decided thebabore to use the word, “programming”. I\n",
    "    wanted to get across the idea babbab this was dynamic, this was multi-\n",
    "    stage... I thought, let’s ... take a word that has an absolutely precise\n",
    "    meaning, namely dynamic... it’s Impossib to use the word, dynamic,\n",
    "    in a pejorative sense. Try thinking of some combination that will pos-\n",
    "    sib give it a pejorative meaning. It’s impossib. Thus, I thought\n",
    "    dynamic programming was a good name. It was something not even a\n",
    "    Congressman could object to.\n",
    "\"\"\""
   ]
  },
  {
   "cell_type": "code",
   "execution_count": 3,
   "metadata": {
    "hidden": true
   },
   "outputs": [
    {
     "data": {
      "text/plain": [
       "['The',\n",
       " 's',\n",
       " 'were',\n",
       " 'not',\n",
       " 'good',\n",
       " 'years',\n",
       " 'for',\n",
       " 'mathematical',\n",
       " 'research',\n",
       " 'the',\n",
       " 'Secretary',\n",
       " 'of',\n",
       " 'Defense',\n",
       " 'had',\n",
       " 'a',\n",
       " 'pathological',\n",
       " 'fear',\n",
       " 'and',\n",
       " 'hatred',\n",
       " 'of',\n",
       " 'the',\n",
       " 'word',\n",
       " 'research',\n",
       " 'I',\n",
       " 'decided',\n",
       " 'thebabore',\n",
       " 'to',\n",
       " 'use',\n",
       " 'the',\n",
       " 'word',\n",
       " 'programming',\n",
       " 'I',\n",
       " 'wanted',\n",
       " 'to',\n",
       " 'get',\n",
       " 'across',\n",
       " 'the',\n",
       " 'idea',\n",
       " 'babbab',\n",
       " 'this',\n",
       " 'was',\n",
       " 'dynamic',\n",
       " 'this',\n",
       " 'was',\n",
       " 'multi',\n",
       " 'stage',\n",
       " 'I',\n",
       " 'thought',\n",
       " 'let',\n",
       " 's',\n",
       " 'take',\n",
       " 'a',\n",
       " 'word',\n",
       " 'that',\n",
       " 'has',\n",
       " 'an',\n",
       " 'absolutely',\n",
       " 'precise',\n",
       " 'meaning',\n",
       " 'namely',\n",
       " 'dynamic',\n",
       " 'it',\n",
       " 's',\n",
       " 'Impossib',\n",
       " 'to',\n",
       " 'use',\n",
       " 'the',\n",
       " 'word',\n",
       " 'dynamic',\n",
       " 'in',\n",
       " 'a',\n",
       " 'pejorative',\n",
       " 'sense',\n",
       " 'Try',\n",
       " 'thinking',\n",
       " 'of',\n",
       " 'some',\n",
       " 'combination',\n",
       " 'that',\n",
       " 'will',\n",
       " 'pos',\n",
       " 'sib',\n",
       " 'give',\n",
       " 'it',\n",
       " 'a',\n",
       " 'pejorative',\n",
       " 'meaning',\n",
       " 'It',\n",
       " 's',\n",
       " 'impossib',\n",
       " 'Thus',\n",
       " 'I',\n",
       " 'thought',\n",
       " 'dynamic',\n",
       " 'programming',\n",
       " 'was',\n",
       " 'a',\n",
       " 'good',\n",
       " 'name',\n",
       " 'It',\n",
       " 'was',\n",
       " 'something',\n",
       " 'not',\n",
       " 'even',\n",
       " 'a',\n",
       " 'Congressman',\n",
       " 'could',\n",
       " 'object',\n",
       " 'to']"
      ]
     },
     "execution_count": 3,
     "metadata": {},
     "output_type": "execute_result"
    }
   ],
   "source": [
    "# 1. The set of all alphabetic strings \n",
    "re.findall(r'([a-bA-Z]+)', text, re.M|re.I)"
   ]
  },
  {
   "cell_type": "code",
   "execution_count": 4,
   "metadata": {
    "hidden": true
   },
   "outputs": [
    {
     "data": {
      "text/plain": [
       "['babbab', 'mpossib', 'sib', 'impossib']"
      ]
     },
     "execution_count": 4,
     "metadata": {},
     "output_type": "execute_result"
    }
   ],
   "source": [
    "# 2. The set of all lower case alphabetic strings ending in a b\n",
    "re.findall(r'[a-z]*b\\b', text, re.M)"
   ]
  },
  {
   "cell_type": "code",
   "execution_count": 5,
   "metadata": {
    "hidden": true
   },
   "outputs": [
    {
     "data": {
      "text/plain": [
       "['bab', 'babbab']"
      ]
     },
     "execution_count": 5,
     "metadata": {},
     "output_type": "execute_result"
    }
   ],
   "source": [
    "# 3. The set of all strings from the alphabet a, b such that each a \n",
    "# is immediately preceded by and immediately followed by a b¶\n",
    "re.findall(r'(b+[ab]+)+', text, re.M|re.I)"
   ]
  },
  {
   "cell_type": "markdown",
   "metadata": {
    "heading_collapsed": true,
    "hidden": true
   },
   "source": [
    "#### 2.2 - Write regular expressions for the following languages. By “word”, we mean an alphabetic string separated from other words by whitespace, any relevant punctuation, line breaks, and so forth. \n",
    "\n",
    "1. the set of all strings with two consecutive repeated words (e.g., “Hum-\n",
    "bert Humbert” and “the the” but not “the bug” or “the big bug”);\n",
    "2. all strings that start at the beginning of the line with an integer and that\n",
    "end at the end of the line with a word;\n",
    "3. all strings that have both the word grotto and the word raven in them\n",
    "(but not, e.g., words like grottos that merely contain the word grotto);\n",
    "4. write a pattern that places the first word of an English sentence in a\n",
    "register. Deal with punctuation."
   ]
  },
  {
   "cell_type": "code",
   "execution_count": 6,
   "metadata": {
    "hidden": true
   },
   "outputs": [],
   "source": [
    "### Testing test\n",
    "text_1 = '1. Humbert Humbert the the the bug the big bug'\n",
    "text_2 = 'Humbert Humbert the the the bug the big bug'\n",
    "text_3 = ' All strings that have both the word grotto and the word raven in them'"
   ]
  },
  {
   "cell_type": "code",
   "execution_count": 7,
   "metadata": {
    "hidden": true
   },
   "outputs": [
    {
     "data": {
      "text/plain": [
       "['s', 't']"
      ]
     },
     "execution_count": 7,
     "metadata": {},
     "output_type": "execute_result"
    }
   ],
   "source": [
    "# 1. The set of all strings with two consecutive repeated words (e.g., “Humbert Humbert” \n",
    "# and “the the” but not “the bug” or “the big bug”)\n",
    "re.findall(r'([a-zA-Z]+)\\s+\\1', text, re.M|re.I)"
   ]
  },
  {
   "cell_type": "code",
   "execution_count": 8,
   "metadata": {
    "hidden": true
   },
   "outputs": [
    {
     "data": {
      "text/plain": [
       "['1. Humbert Humbert the the the bug the big bug']"
      ]
     },
     "execution_count": 8,
     "metadata": {},
     "output_type": "execute_result"
    }
   ],
   "source": [
    "# 2. All strings that start at the beginning of the line with an \n",
    "# integer and that end at the end of the line with a word\n",
    "re.findall(r'(^\\d+.*[a-zA-Z]+$)', text_1, re.M|re.I)"
   ]
  },
  {
   "cell_type": "code",
   "execution_count": 9,
   "metadata": {
    "hidden": true
   },
   "outputs": [
    {
     "data": {
      "text/plain": [
       "[]"
      ]
     },
     "execution_count": 9,
     "metadata": {},
     "output_type": "execute_result"
    }
   ],
   "source": [
    "re.findall(r'(^\\d+.*[a-zA-Z]+$)', text_2, re.M|re.I)"
   ]
  },
  {
   "cell_type": "code",
   "execution_count": 10,
   "metadata": {
    "hidden": true
   },
   "outputs": [
    {
     "data": {
      "text/plain": [
       "['grotto and the word raven']"
      ]
     },
     "execution_count": 10,
     "metadata": {},
     "output_type": "execute_result"
    }
   ],
   "source": [
    "# 3. All strings that have both the word grotto and the word raven in them (but not, e.g., \n",
    "#words like grottos that merely contain the word grotto)\n",
    "re.findall(r'(\\bgrotto\\b.*\\braven\\b|\\braven\\b.*\\bgrotto\\b)', text_3, re.M|re.I)"
   ]
  },
  {
   "cell_type": "code",
   "execution_count": 11,
   "metadata": {
    "hidden": true
   },
   "outputs": [
    {
     "data": {
      "text/plain": [
       "['All']"
      ]
     },
     "execution_count": 11,
     "metadata": {},
     "output_type": "execute_result"
    }
   ],
   "source": [
    "# 4. Write a pattern that places the first word of an English sentence in a register. \n",
    "# Deal with punctuation.\n",
    "re.findall(r'^[^a-zA-Z]+([a-zA-Z]+)', text_3, re.M|re.I)"
   ]
  },
  {
   "cell_type": "markdown",
   "metadata": {
    "heading_collapsed": true,
    "hidden": true
   },
   "source": [
    "#### 2.4 Compute the edit distance (using insertion cost 1, deletion cost 1, substitution cost 1) of “leda” to “deal”.Show your work\n",
    "(using the edit distance grid).\n",
    "\n",
    "\n",
    "|       |  | l| e| d| a|\n",
    "|---    |--|--|--|--|--|\n",
    "|       | 0| 1| 2| 3| 4|\n",
    "| **d** | 1| 1| 2| 2| 3|\n",
    "| **e** | 2| 2| 1| 2| 3|\n",
    "| **a** | 3| 3| 2| 2| 2|\n",
    "| **l** | 4| 3| 3| 3| **3**|\n",
    " "
   ]
  },
  {
   "cell_type": "markdown",
   "metadata": {
    "heading_collapsed": true,
    "hidden": true
   },
   "source": [
    "####  2.5 Figure out whether drive is closer to brief or to divers and what the edit distance is to each. You may use any version of distance that you like. \n",
    "Using insertion cost 1, deletion cost 1, substitution cost 2.\n",
    "\n",
    "|       |   | d| r| i| v| e|\n",
    "|---    |---|--|--|--|--|--|\n",
    "|       | 0 | 1| 2| 3| 4| 5|\n",
    "| **b** | 1 | 2| 3| 4| 5| 6|\n",
    "| **r** | 2 | 3| 2| 3| 4| 5|\n",
    "| **i** | 3 | 4| 3| 2| 3| 4|\n",
    "| **e** | 4 | 5| 4| 3| 4| 3|\n",
    "| **f** | 5 | 6| 5| 4| 5| **4**|\n",
    "\n",
    "\n",
    "|       |   | d| r| i| v| e|\n",
    "|---    |---|--|--|--|--|--|\n",
    "|       | 0 | 1| 2| 3| 4| 5|\n",
    "| **d** | 1 | 0| 1| 2| 3| 4|\n",
    "| **i** | 2 | 1| 2| 1| 2| 3|\n",
    "| **v** | 3 | 2| 3| 2| 1| 2|\n",
    "| **e** | 4 | 3| 4| 3| 2| 1|\n",
    "| **r** | 5 | 4| 3| 4| 3| 2|\n",
    "| **s** | 6 | 5| 4| 5| 4| **3**|\n"
   ]
  },
  {
   "cell_type": "markdown",
   "metadata": {
    "heading_collapsed": true,
    "hidden": true
   },
   "source": [
    "#### 2.6 Now implement a minimum edit distance algorithm and use your hand-computed results to check your code."
   ]
  },
  {
   "cell_type": "markdown",
   "metadata": {
    "heading_collapsed": true,
    "hidden": true
   },
   "source": [
    "##### Build matrix distance "
   ]
  },
  {
   "cell_type": "code",
   "execution_count": 12,
   "metadata": {
    "hidden": true
   },
   "outputs": [],
   "source": [
    "def edit_matrix_distance(source, target, cost=[1, 1, 2]):\n",
    "    n_source = len(source)\n",
    "    n_target = len(target)\n",
    "    \n",
    "    # Create a distance matrix distance[n+1,m+1]\n",
    "    matrix_distance = [[i for i in range(n_target+1)] for i in range(n_source+1)]\n",
    "    \n",
    "    # Inicialization\n",
    "    for i in range(n_target+1):\n",
    "        matrix_distance[0][i] = i\n",
    "        \n",
    "    for i in range(n_source+1):\n",
    "        matrix_distance[i][0] = i\n",
    "        \n",
    "    # Recurrence relation\n",
    "    for i in range(1, n_source+1):\n",
    "        for j in range(1, n_target+1):\n",
    "            matrix_distance[i][j] = min(matrix_distance[i][j-1] + cost[0],\n",
    "                                        matrix_distance[i-1][j] + cost[1],\n",
    "                                        matrix_distance[i-1][j-1] +cost[2]*(source[i-1] != target[j-1]))\n",
    "    # Termination\n",
    "    return matrix_distance"
   ]
  },
  {
   "cell_type": "code",
   "execution_count": 13,
   "metadata": {
    "hidden": true
   },
   "outputs": [
    {
     "data": {
      "text/plain": [
       "[[0, 1, 2, 3, 4],\n",
       " [1, 1, 2, 2, 3],\n",
       " [2, 2, 1, 2, 3],\n",
       " [3, 3, 2, 2, 2],\n",
       " [4, 3, 3, 3, 3]]"
      ]
     },
     "execution_count": 13,
     "metadata": {},
     "output_type": "execute_result"
    }
   ],
   "source": [
    "# Test 1\n",
    "edit_matrix_distance('deal', 'leda', cost=[1, 1, 1])"
   ]
  },
  {
   "cell_type": "code",
   "execution_count": 14,
   "metadata": {
    "hidden": true
   },
   "outputs": [
    {
     "data": {
      "text/plain": [
       "[[0, 1, 2, 3, 4, 5],\n",
       " [1, 2, 3, 4, 5, 6],\n",
       " [2, 3, 2, 3, 4, 5],\n",
       " [3, 4, 3, 2, 3, 4],\n",
       " [4, 5, 4, 3, 4, 3],\n",
       " [5, 6, 5, 4, 5, 4]]"
      ]
     },
     "execution_count": 14,
     "metadata": {},
     "output_type": "execute_result"
    }
   ],
   "source": [
    "# Test 2\n",
    "edit_matrix_distance('brief', 'drive', cost=[1, 1, 2])"
   ]
  },
  {
   "cell_type": "code",
   "execution_count": 15,
   "metadata": {
    "hidden": true
   },
   "outputs": [
    {
     "data": {
      "text/plain": [
       "[[0, 1, 2, 3, 4, 5],\n",
       " [1, 0, 1, 2, 3, 4],\n",
       " [2, 1, 0, 1, 2, 3],\n",
       " [3, 2, 1, 0, 1, 2],\n",
       " [4, 3, 2, 1, 0, 1],\n",
       " [5, 4, 3, 2, 1, 0],\n",
       " [6, 5, 4, 3, 2, 1],\n",
       " [7, 6, 5, 4, 3, 2]]"
      ]
     },
     "execution_count": 15,
     "metadata": {},
     "output_type": "execute_result"
    }
   ],
   "source": [
    "# Test 3\n",
    "edit_matrix_distance('drivers', 'drive', cost=[1, 1, 2])"
   ]
  },
  {
   "cell_type": "markdown",
   "metadata": {
    "heading_collapsed": true,
    "hidden": true
   },
   "source": [
    "##### Min distance function"
   ]
  },
  {
   "cell_type": "code",
   "execution_count": 16,
   "metadata": {
    "hidden": true
   },
   "outputs": [],
   "source": [
    "def get_min_distance(source, target, cost=[1, 1, 2]):\n",
    "    return edit_matrix_distance(source, target, cost=cost)[-1][-1]"
   ]
  },
  {
   "cell_type": "code",
   "execution_count": 17,
   "metadata": {
    "hidden": true
   },
   "outputs": [
    {
     "data": {
      "text/plain": [
       "3"
      ]
     },
     "execution_count": 17,
     "metadata": {},
     "output_type": "execute_result"
    }
   ],
   "source": [
    "# Test 1\n",
    "get_min_distance('deal', 'leda', cost=[1, 1, 1])"
   ]
  },
  {
   "cell_type": "code",
   "execution_count": 18,
   "metadata": {
    "hidden": true
   },
   "outputs": [
    {
     "data": {
      "text/plain": [
       "4"
      ]
     },
     "execution_count": 18,
     "metadata": {},
     "output_type": "execute_result"
    }
   ],
   "source": [
    "# Test 2\n",
    "get_min_distance('brief', 'drive', cost=[1, 1, 2])"
   ]
  },
  {
   "cell_type": "code",
   "execution_count": 19,
   "metadata": {
    "hidden": true
   },
   "outputs": [
    {
     "data": {
      "text/plain": [
       "2"
      ]
     },
     "execution_count": 19,
     "metadata": {},
     "output_type": "execute_result"
    }
   ],
   "source": [
    "# Test 3\n",
    "get_min_distance('drivers', 'drive', cost=[1, 1, 2])"
   ]
  },
  {
   "cell_type": "markdown",
   "metadata": {
    "heading_collapsed": true,
    "hidden": true
   },
   "source": [
    "#### 2.7 Augment the minimum edit distance algorithm to output an alignment; you will need to store pointers and add a stage to compute the backtrace."
   ]
  },
  {
   "cell_type": "code",
   "execution_count": 20,
   "metadata": {
    "hidden": true
   },
   "outputs": [],
   "source": [
    "class EditDistance:\n",
    "\n",
    "    def __init__(self):\n",
    "        self.source = None\n",
    "        self.target = None\n",
    "        self.cost = None\n",
    "        self.distance_matrix = None\n",
    "        self.pointer_matrix = None\n",
    "\n",
    "    def fit(self, source, target, cost=[1,1,1]):\n",
    "        self.source = source\n",
    "        self.target = target\n",
    "        self.cost = cost\n",
    "\n",
    "        self._compute()\n",
    "\n",
    "    def _compute(self):\n",
    "        s_len = len(self.source)\n",
    "        t_len = len(self.target)\n",
    "        distance = [[i for i in range(t_len+1)] for i in range(s_len+1)]\n",
    "        pointer = [[i for i in range(t_len+1)] for i in range(s_len+1)]\n",
    "\n",
    "        for j in range(t_len+1):\n",
    "            distance[0][j] = j\n",
    "            pointer[0][j]=[(0, j-1, 'ins')]\n",
    "        for i in range(s_len+1):\n",
    "            distance[i][0] = i\n",
    "            pointer[i][0]=[(i-1, 0, 'de')]\n",
    "\n",
    "        pointer[0][0] = [(0,0, 'null')]\n",
    "\n",
    "        for i in range(1, s_len+1):\n",
    "            for j in range(1, t_len+1):\n",
    "                ins = distance[i][j-1]+self.cost[0]\n",
    "                de = distance[i-1][j]+self.cost[1]\n",
    "                sub = distance[i-1][j-1]+self.cost[2]*(self.source[i-1] != self.target[j-1])\n",
    "\n",
    "                mini = min(ins, de, sub)\n",
    "\n",
    "                directions = [(i,j-1, 'ins')*(ins==mini),\n",
    "                              (i-1,j, 'de')*(de==mini),\n",
    "                              (i-1,j-1, 'sub')*(sub == mini)]\n",
    "                pointer[i][j] = [x for x in directions if x]\n",
    "                distance[i][j] = mini\n",
    "        self.distance_matrix = distance\n",
    "        self.pointer_matrix = pointer\n",
    "\n",
    "    def minimum(self):\n",
    "        return self.distance_matrix[-1][-1]\n",
    "\n",
    "    def matrix(self):\n",
    "        return self.distance_matrix\n",
    "\n",
    "    def operation(self):\n",
    "\n",
    "        s_len = len(self.source)\n",
    "        t_len = len(self.target)\n",
    "        ith = s_len\n",
    "        jth = t_len\n",
    "        ppath = []\n",
    "\n",
    "        while ith > 0 or jth > 0:\n",
    "            parent = self.pointer_matrix[ith][jth]\n",
    "            ith_parent, jth_parent, action= parent[0]\n",
    "            if action == 'ins':\n",
    "                ppath.append((self.target[jth-1], 'ins'))\n",
    "            elif action == 'de':\n",
    "                ppath.append((self.source[ith-1], 'de'))\n",
    "            elif action == 'sub':\n",
    "                ppath.append((self.target[jth-1], 'sub'))\n",
    "\n",
    "            ith, jth = ith_parent, jth_parent\n",
    "\n",
    "        ppath.reverse()\n",
    "        return ppath\n",
    "\n",
    "    def step(self, short=True):\n",
    "        path = self.operation()\n",
    "        source = list(self.source)\n",
    "        by_step = []\n",
    "        idx = 0\n",
    "        by_step.append(self.source)\n",
    "        for p in path:\n",
    "            if p[1] == 'ins':\n",
    "                source.insert(idx, p[0])\n",
    "                idx += 1\n",
    "            elif p[1] == 'de':\n",
    "                del source[idx]\n",
    "            elif p[1] == 'sub':\n",
    "                if short and source[idx] == p[0]:\n",
    "                    idx +=1\n",
    "                    continue\n",
    "                source[idx] = p[0]\n",
    "                idx += 1\n",
    "\n",
    "            by_step.append(''.join(source))\n",
    "        return by_step"
   ]
  },
  {
   "cell_type": "code",
   "execution_count": 21,
   "metadata": {
    "hidden": true
   },
   "outputs": [
    {
     "name": "stdout",
     "output_type": "stream",
     "text": [
      "3\n",
      "[('d', 'sub'), ('r', 'sub'), ('i', 'sub'), ('v', 'ins'), ('e', 'sub'), ('r', 'sub')]\n",
      "['brief', 'drief', 'drivef', 'driver']\n"
     ]
    }
   ],
   "source": [
    "# Test\n",
    "edit = EditDistance()\n",
    "edit.fit('brief', 'driver')\n",
    "print(edit.minimum())\n",
    "print(edit.operation())\n",
    "print(edit.step())"
   ]
  }
 ],
 "metadata": {
  "kernelspec": {
   "display_name": "Python 3",
   "language": "python",
   "name": "python3"
  },
  "language_info": {
   "codemirror_mode": {
    "name": "ipython",
    "version": 3
   },
   "file_extension": ".py",
   "mimetype": "text/x-python",
   "name": "python",
   "nbconvert_exporter": "python",
   "pygments_lexer": "ipython3",
   "version": "3.8.5"
  }
 },
 "nbformat": 4,
 "nbformat_minor": 4
}
